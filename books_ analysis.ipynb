{
  "nbformat": 4,
  "nbformat_minor": 0,
  "metadata": {
    "colab": {
      "name": "books_df_lina.ipynb",
      "provenance": [],
      "collapsed_sections": []
    },
    "kernelspec": {
      "name": "python3",
      "display_name": "Python 3"
    },
    "language_info": {
      "name": "python"
    }
  },
  "cells": [
    {
      "cell_type": "code",
      "metadata": {
        "id": "uwzQWgi4RMK6"
      },
      "source": [
        "import pandas as pd\n",
        "import numpy as np\n",
        "import seaborn as sns\n",
        "import matplotlib.pyplot as plt"
      ],
      "execution_count": null,
      "outputs": []
    },
    {
      "cell_type": "code",
      "metadata": {
        "colab": {
          "base_uri": "https://localhost:8080/"
        },
        "id": "pFpnGw6UStXK",
        "outputId": "b1edd5da-5514-446e-fa84-f6dbffa546b2"
      },
      "source": [
        "import chardet    \n",
        "rawdata = open('/content/books.csv', 'rb').read()\n",
        "result = chardet.detect(rawdata)\n",
        "charenc = result['encoding']\n",
        "print(charenc)"
      ],
      "execution_count": null,
      "outputs": [
        {
          "output_type": "stream",
          "text": [
            "Windows-1252\n"
          ],
          "name": "stdout"
        }
      ]
    },
    {
      "cell_type": "code",
      "metadata": {
        "id": "XbkVEuazS0VV"
      },
      "source": [
        "df=pd.read_csv('/content/books.csv',encoding='Windows-1252')"
      ],
      "execution_count": null,
      "outputs": []
    },
    {
      "cell_type": "code",
      "metadata": {
        "colab": {
          "base_uri": "https://localhost:8080/",
          "height": 717
        },
        "id": "gmtqRg_wTb_s",
        "outputId": "8a948c7a-33ec-4867-da80-8a7075822132"
      },
      "source": [
        "df.head()"
      ],
      "execution_count": null,
      "outputs": [
        {
          "output_type": "execute_result",
          "data": {
            "text/html": [
              "<div>\n",
              "<style scoped>\n",
              "    .dataframe tbody tr th:only-of-type {\n",
              "        vertical-align: middle;\n",
              "    }\n",
              "\n",
              "    .dataframe tbody tr th {\n",
              "        vertical-align: top;\n",
              "    }\n",
              "\n",
              "    .dataframe thead th {\n",
              "        text-align: right;\n",
              "    }\n",
              "</style>\n",
              "<table border=\"1\" class=\"dataframe\">\n",
              "  <thead>\n",
              "    <tr style=\"text-align: right;\">\n",
              "      <th></th>\n",
              "      <th>bookID</th>\n",
              "      <th>title</th>\n",
              "      <th>authors</th>\n",
              "      <th>average_rating</th>\n",
              "      <th>isbn</th>\n",
              "      <th>isbn13</th>\n",
              "      <th>language_code</th>\n",
              "      <th># num_pages</th>\n",
              "      <th>ratings_count</th>\n",
              "      <th>text_reviews_count</th>\n",
              "    </tr>\n",
              "  </thead>\n",
              "  <tbody>\n",
              "    <tr>\n",
              "      <th>0</th>\n",
              "      <td>1</td>\n",
              "      <td>Harry Potter and the Half-Blood Prince (Harry ...</td>\n",
              "      <td>J.K. Rowling-Mary GrandPr?©</td>\n",
              "      <td>4.56</td>\n",
              "      <td>439785960</td>\n",
              "      <td>9780439785969</td>\n",
              "      <td>eng</td>\n",
              "      <td>652</td>\n",
              "      <td>1944099</td>\n",
              "      <td>26249</td>\n",
              "    </tr>\n",
              "    <tr>\n",
              "      <th>1</th>\n",
              "      <td>2</td>\n",
              "      <td>Harry Potter and the Order of the Phoenix (Har...</td>\n",
              "      <td>J.K. Rowling-Mary GrandPr?©</td>\n",
              "      <td>4.49</td>\n",
              "      <td>439358078</td>\n",
              "      <td>9780439358071</td>\n",
              "      <td>eng</td>\n",
              "      <td>870</td>\n",
              "      <td>1996446</td>\n",
              "      <td>27613</td>\n",
              "    </tr>\n",
              "    <tr>\n",
              "      <th>2</th>\n",
              "      <td>3</td>\n",
              "      <td>Harry Potter and the Sorcerer's Stone (Harry P...</td>\n",
              "      <td>J.K. Rowling-Mary GrandPr?©</td>\n",
              "      <td>4.47</td>\n",
              "      <td>439554934</td>\n",
              "      <td>9780439554930</td>\n",
              "      <td>eng</td>\n",
              "      <td>320</td>\n",
              "      <td>5629932</td>\n",
              "      <td>70390</td>\n",
              "    </tr>\n",
              "    <tr>\n",
              "      <th>3</th>\n",
              "      <td>4</td>\n",
              "      <td>Harry Potter and the Chamber of Secrets (Harry...</td>\n",
              "      <td>J.K. Rowling</td>\n",
              "      <td>4.41</td>\n",
              "      <td>439554896</td>\n",
              "      <td>9780439554893</td>\n",
              "      <td>eng</td>\n",
              "      <td>352</td>\n",
              "      <td>6267</td>\n",
              "      <td>272</td>\n",
              "    </tr>\n",
              "    <tr>\n",
              "      <th>4</th>\n",
              "      <td>5</td>\n",
              "      <td>Harry Potter and the Prisoner of Azkaban (Harr...</td>\n",
              "      <td>J.K. Rowling-Mary GrandPr?©</td>\n",
              "      <td>4.55</td>\n",
              "      <td>043965548X</td>\n",
              "      <td>9780439655484</td>\n",
              "      <td>eng</td>\n",
              "      <td>435</td>\n",
              "      <td>2149872</td>\n",
              "      <td>33964</td>\n",
              "    </tr>\n",
              "  </tbody>\n",
              "</table>\n",
              "</div>"
            ],
            "text/plain": [
              "   bookID  ... text_reviews_count\n",
              "0       1  ...              26249\n",
              "1       2  ...              27613\n",
              "2       3  ...              70390\n",
              "3       4  ...                272\n",
              "4       5  ...              33964\n",
              "\n",
              "[5 rows x 10 columns]"
            ]
          },
          "metadata": {
            "tags": []
          },
          "execution_count": 72
        }
      ]
    },
    {
      "cell_type": "code",
      "metadata": {
        "colab": {
          "base_uri": "https://localhost:8080/"
        },
        "id": "Nd6m6YBPTeJs",
        "outputId": "6581f229-bf3f-40dd-9916-a700f853d185"
      },
      "source": [
        "df.info()"
      ],
      "execution_count": null,
      "outputs": [
        {
          "output_type": "stream",
          "text": [
            "<class 'pandas.core.frame.DataFrame'>\n",
            "RangeIndex: 13713 entries, 0 to 13712\n",
            "Data columns (total 10 columns):\n",
            " #   Column              Non-Null Count  Dtype  \n",
            "---  ------              --------------  -----  \n",
            " 0   bookID              13713 non-null  int64  \n",
            " 1   title               13713 non-null  object \n",
            " 2   authors             13713 non-null  object \n",
            " 3   average_rating      13713 non-null  float64\n",
            " 4   isbn                13713 non-null  object \n",
            " 5   isbn13              13713 non-null  int64  \n",
            " 6   language_code       13713 non-null  object \n",
            " 7   # num_pages         13713 non-null  int64  \n",
            " 8   ratings_count       13713 non-null  int64  \n",
            " 9   text_reviews_count  13713 non-null  int64  \n",
            "dtypes: float64(1), int64(5), object(4)\n",
            "memory usage: 1.0+ MB\n"
          ],
          "name": "stdout"
        }
      ]
    },
    {
      "cell_type": "markdown",
      "metadata": {
        "id": "hriLuALpfGRs"
      },
      "source": [
        "# **Create a function to calculate weight rating**"
      ]
    },
    {
      "cell_type": "markdown",
      "metadata": {
        "id": "rOYDLllMf2k7"
      },
      "source": [
        "Weighted rating (WR) = (v ÷ (v+m)) × R + (m ÷ (v+m)) × C , where:\n",
        "\n",
        "R = average rating for the book \n",
        "v = count of rates for the book\n",
        "m = minimum count rate \n",
        "C=the mean of average_rating values"
      ]
    },
    {
      "cell_type": "code",
      "metadata": {
        "id": "4UZLwEahfTPD"
      },
      "source": [
        "def calculate_WRating(R, v, m, C):\n",
        "    WR = (v/(v+m))*R+(m/(v+m))*C\n",
        "    return WR"
      ],
      "execution_count": null,
      "outputs": []
    },
    {
      "cell_type": "markdown",
      "metadata": {
        "id": "Bzs1iy1sGeIp"
      },
      "source": [
        "# **Get a sample of data for books that have avarage rating greater than or equals 4 and less than 5**"
      ]
    },
    {
      "cell_type": "code",
      "metadata": {
        "colab": {
          "base_uri": "https://localhost:8080/",
          "height": 657
        },
        "id": "UNLbMWSuTs_w",
        "outputId": "bb9be2e8-78c0-4666-ee2f-80641001803c"
      },
      "source": [
        "data_with_rate_over4=df[(df['average_rating']>=4) & (df['average_rating']<5) ].loc[:,['title','authors','language_code','average_rating','# num_pages','ratings_count','text_reviews_count']]\n",
        "data_with_rate_over4"
      ],
      "execution_count": null,
      "outputs": [
        {
          "output_type": "execute_result",
          "data": {
            "text/html": [
              "<div>\n",
              "<style scoped>\n",
              "    .dataframe tbody tr th:only-of-type {\n",
              "        vertical-align: middle;\n",
              "    }\n",
              "\n",
              "    .dataframe tbody tr th {\n",
              "        vertical-align: top;\n",
              "    }\n",
              "\n",
              "    .dataframe thead th {\n",
              "        text-align: right;\n",
              "    }\n",
              "</style>\n",
              "<table border=\"1\" class=\"dataframe\">\n",
              "  <thead>\n",
              "    <tr style=\"text-align: right;\">\n",
              "      <th></th>\n",
              "      <th>title</th>\n",
              "      <th>authors</th>\n",
              "      <th>language_code</th>\n",
              "      <th>average_rating</th>\n",
              "      <th># num_pages</th>\n",
              "      <th>ratings_count</th>\n",
              "      <th>text_reviews_count</th>\n",
              "    </tr>\n",
              "  </thead>\n",
              "  <tbody>\n",
              "    <tr>\n",
              "      <th>0</th>\n",
              "      <td>Harry Potter and the Half-Blood Prince (Harry ...</td>\n",
              "      <td>J.K. Rowling-Mary GrandPr?©</td>\n",
              "      <td>eng</td>\n",
              "      <td>4.56</td>\n",
              "      <td>652</td>\n",
              "      <td>1944099</td>\n",
              "      <td>26249</td>\n",
              "    </tr>\n",
              "    <tr>\n",
              "      <th>1</th>\n",
              "      <td>Harry Potter and the Order of the Phoenix (Har...</td>\n",
              "      <td>J.K. Rowling-Mary GrandPr?©</td>\n",
              "      <td>eng</td>\n",
              "      <td>4.49</td>\n",
              "      <td>870</td>\n",
              "      <td>1996446</td>\n",
              "      <td>27613</td>\n",
              "    </tr>\n",
              "    <tr>\n",
              "      <th>2</th>\n",
              "      <td>Harry Potter and the Sorcerer's Stone (Harry P...</td>\n",
              "      <td>J.K. Rowling-Mary GrandPr?©</td>\n",
              "      <td>eng</td>\n",
              "      <td>4.47</td>\n",
              "      <td>320</td>\n",
              "      <td>5629932</td>\n",
              "      <td>70390</td>\n",
              "    </tr>\n",
              "    <tr>\n",
              "      <th>3</th>\n",
              "      <td>Harry Potter and the Chamber of Secrets (Harry...</td>\n",
              "      <td>J.K. Rowling</td>\n",
              "      <td>eng</td>\n",
              "      <td>4.41</td>\n",
              "      <td>352</td>\n",
              "      <td>6267</td>\n",
              "      <td>272</td>\n",
              "    </tr>\n",
              "    <tr>\n",
              "      <th>4</th>\n",
              "      <td>Harry Potter and the Prisoner of Azkaban (Harr...</td>\n",
              "      <td>J.K. Rowling-Mary GrandPr?©</td>\n",
              "      <td>eng</td>\n",
              "      <td>4.55</td>\n",
              "      <td>435</td>\n",
              "      <td>2149872</td>\n",
              "      <td>33964</td>\n",
              "    </tr>\n",
              "    <tr>\n",
              "      <th>...</th>\n",
              "      <td>...</td>\n",
              "      <td>...</td>\n",
              "      <td>...</td>\n",
              "      <td>...</td>\n",
              "      <td>...</td>\n",
              "      <td>...</td>\n",
              "      <td>...</td>\n",
              "    </tr>\n",
              "    <tr>\n",
              "      <th>13704</th>\n",
              "      <td>American Gods</td>\n",
              "      <td>Neil Gaiman</td>\n",
              "      <td>spa</td>\n",
              "      <td>4.11</td>\n",
              "      <td>477</td>\n",
              "      <td>58</td>\n",
              "      <td>6</td>\n",
              "    </tr>\n",
              "    <tr>\n",
              "      <th>13705</th>\n",
              "      <td>The Day I Swapped My Dad for Two Goldfish</td>\n",
              "      <td>Neil Gaiman-Dave McKean</td>\n",
              "      <td>en-US</td>\n",
              "      <td>4.03</td>\n",
              "      <td>64</td>\n",
              "      <td>8744</td>\n",
              "      <td>524</td>\n",
              "    </tr>\n",
              "    <tr>\n",
              "      <th>13707</th>\n",
              "      <td>The Sandman: King of Dreams</td>\n",
              "      <td>Alisa Kwitney-Neil Gaiman</td>\n",
              "      <td>eng</td>\n",
              "      <td>4.62</td>\n",
              "      <td>180</td>\n",
              "      <td>12775</td>\n",
              "      <td>34</td>\n",
              "    </tr>\n",
              "    <tr>\n",
              "      <th>13711</th>\n",
              "      <td>The Faeries' Oracle</td>\n",
              "      <td>Brian Froud-Jessica Macbeth</td>\n",
              "      <td>eng</td>\n",
              "      <td>4.43</td>\n",
              "      <td>224</td>\n",
              "      <td>1550</td>\n",
              "      <td>38</td>\n",
              "    </tr>\n",
              "    <tr>\n",
              "      <th>13712</th>\n",
              "      <td>The World of The Dark Crystal</td>\n",
              "      <td>Brian Froud</td>\n",
              "      <td>eng</td>\n",
              "      <td>4.29</td>\n",
              "      <td>132</td>\n",
              "      <td>3572</td>\n",
              "      <td>33</td>\n",
              "    </tr>\n",
              "  </tbody>\n",
              "</table>\n",
              "<p>5991 rows × 7 columns</p>\n",
              "</div>"
            ],
            "text/plain": [
              "                                                   title  ... text_reviews_count\n",
              "0      Harry Potter and the Half-Blood Prince (Harry ...  ...              26249\n",
              "1      Harry Potter and the Order of the Phoenix (Har...  ...              27613\n",
              "2      Harry Potter and the Sorcerer's Stone (Harry P...  ...              70390\n",
              "3      Harry Potter and the Chamber of Secrets (Harry...  ...                272\n",
              "4      Harry Potter and the Prisoner of Azkaban (Harr...  ...              33964\n",
              "...                                                  ...  ...                ...\n",
              "13704                                      American Gods  ...                  6\n",
              "13705          The Day I Swapped My Dad for Two Goldfish  ...                524\n",
              "13707                        The Sandman: King of Dreams  ...                 34\n",
              "13711                                The Faeries' Oracle  ...                 38\n",
              "13712                      The World of The Dark Crystal  ...                 33\n",
              "\n",
              "[5991 rows x 7 columns]"
            ]
          },
          "metadata": {
            "tags": []
          },
          "execution_count": 91
        }
      ]
    },
    {
      "cell_type": "code",
      "metadata": {
        "colab": {
          "base_uri": "https://localhost:8080/",
          "height": 173
        },
        "id": "utP0sgj3hiBm",
        "outputId": "f859869d-c875-4085-ac3a-6e76ed0274f6"
      },
      "source": [
        "data_with_rate_over4.describe().T"
      ],
      "execution_count": null,
      "outputs": [
        {
          "output_type": "execute_result",
          "data": {
            "text/html": [
              "<div>\n",
              "<style scoped>\n",
              "    .dataframe tbody tr th:only-of-type {\n",
              "        vertical-align: middle;\n",
              "    }\n",
              "\n",
              "    .dataframe tbody tr th {\n",
              "        vertical-align: top;\n",
              "    }\n",
              "\n",
              "    .dataframe thead th {\n",
              "        text-align: right;\n",
              "    }\n",
              "</style>\n",
              "<table border=\"1\" class=\"dataframe\">\n",
              "  <thead>\n",
              "    <tr style=\"text-align: right;\">\n",
              "      <th></th>\n",
              "      <th>count</th>\n",
              "      <th>mean</th>\n",
              "      <th>std</th>\n",
              "      <th>min</th>\n",
              "      <th>25%</th>\n",
              "      <th>50%</th>\n",
              "      <th>75%</th>\n",
              "      <th>max</th>\n",
              "    </tr>\n",
              "  </thead>\n",
              "  <tbody>\n",
              "    <tr>\n",
              "      <th>average_rating</th>\n",
              "      <td>5991.0</td>\n",
              "      <td>4.188533</td>\n",
              "      <td>0.147776</td>\n",
              "      <td>4.0</td>\n",
              "      <td>4.07</td>\n",
              "      <td>4.16</td>\n",
              "      <td>4.27</td>\n",
              "      <td>4.91</td>\n",
              "    </tr>\n",
              "    <tr>\n",
              "      <th># num_pages</th>\n",
              "      <td>5991.0</td>\n",
              "      <td>383.212819</td>\n",
              "      <td>319.631714</td>\n",
              "      <td>0.0</td>\n",
              "      <td>194.50</td>\n",
              "      <td>320.00</td>\n",
              "      <td>480.00</td>\n",
              "      <td>6576.00</td>\n",
              "    </tr>\n",
              "    <tr>\n",
              "      <th>ratings_count</th>\n",
              "      <td>5991.0</td>\n",
              "      <td>21917.130863</td>\n",
              "      <td>130632.092568</td>\n",
              "      <td>0.0</td>\n",
              "      <td>97.00</td>\n",
              "      <td>740.00</td>\n",
              "      <td>5782.00</td>\n",
              "      <td>5629932.00</td>\n",
              "    </tr>\n",
              "    <tr>\n",
              "      <th>text_reviews_count</th>\n",
              "      <td>5991.0</td>\n",
              "      <td>622.341846</td>\n",
              "      <td>2904.755141</td>\n",
              "      <td>0.0</td>\n",
              "      <td>7.00</td>\n",
              "      <td>41.00</td>\n",
              "      <td>228.00</td>\n",
              "      <td>84237.00</td>\n",
              "    </tr>\n",
              "  </tbody>\n",
              "</table>\n",
              "</div>"
            ],
            "text/plain": [
              "                     count          mean  ...      75%         max\n",
              "average_rating      5991.0      4.188533  ...     4.27        4.91\n",
              "# num_pages         5991.0    383.212819  ...   480.00     6576.00\n",
              "ratings_count       5991.0  21917.130863  ...  5782.00  5629932.00\n",
              "text_reviews_count  5991.0    622.341846  ...   228.00    84237.00\n",
              "\n",
              "[4 rows x 8 columns]"
            ]
          },
          "metadata": {
            "tags": []
          },
          "execution_count": 76
        }
      ]
    },
    {
      "cell_type": "markdown",
      "metadata": {
        "id": "FNcWZTm8q7eq"
      },
      "source": [
        "# **Check if there is any outliers in rating counts values**"
      ]
    },
    {
      "cell_type": "code",
      "metadata": {
        "colab": {
          "base_uri": "https://localhost:8080/",
          "height": 252
        },
        "id": "tECY5bGcrFQl",
        "outputId": "1280234a-0cfd-4d4c-b4b0-3c03d86358db"
      },
      "source": [
        "sns.boxplot(y='average_rating',data=data_with_rate_over4);"
      ],
      "execution_count": null,
      "outputs": [
        {
          "output_type": "display_data",
          "data": {
            "image/png": "[encoded data removed]",
            "text/plain": [
              "<Figure size 432x288 with 1 Axes>"
            ]
          },
          "metadata": {
            "tags": [],
            "needs_background": "light"
          }
        }
      ]
    },
    {
      "cell_type": "markdown",
      "metadata": {
        "id": "B0Y8VHWPu1se"
      },
      "source": [
        "# **Select Data with out outliers**"
      ]
    },
    {
      "cell_type": "code",
      "metadata": {
        "colab": {
          "base_uri": "https://localhost:8080/",
          "height": 640
        },
        "id": "5vdTmCuAu8uN",
        "outputId": "84ca7ca5-82a6-4b88-87bd-6bfb17fe1cf9"
      },
      "source": [
        "data_with_rate_over4=df[(df['average_rating']>=4) & (df['average_rating']<=4.5) ].loc[:,['title','authors','language_code','average_rating','# num_pages','ratings_count','text_reviews_count']]\n",
        "data_with_rate_over4"
      ],
      "execution_count": null,
      "outputs": [
        {
          "output_type": "execute_result",
          "data": {
            "text/html": [
              "<div>\n",
              "<style scoped>\n",
              "    .dataframe tbody tr th:only-of-type {\n",
              "        vertical-align: middle;\n",
              "    }\n",
              "\n",
              "    .dataframe tbody tr th {\n",
              "        vertical-align: top;\n",
              "    }\n",
              "\n",
              "    .dataframe thead th {\n",
              "        text-align: right;\n",
              "    }\n",
              "</style>\n",
              "<table border=\"1\" class=\"dataframe\">\n",
              "  <thead>\n",
              "    <tr style=\"text-align: right;\">\n",
              "      <th></th>\n",
              "      <th>title</th>\n",
              "      <th>authors</th>\n",
              "      <th>language_code</th>\n",
              "      <th>average_rating</th>\n",
              "      <th># num_pages</th>\n",
              "      <th>ratings_count</th>\n",
              "      <th>text_reviews_count</th>\n",
              "    </tr>\n",
              "  </thead>\n",
              "  <tbody>\n",
              "    <tr>\n",
              "      <th>1</th>\n",
              "      <td>Harry Potter and the Order of the Phoenix (Har...</td>\n",
              "      <td>J.K. Rowling-Mary GrandPr?©</td>\n",
              "      <td>eng</td>\n",
              "      <td>4.49</td>\n",
              "      <td>870</td>\n",
              "      <td>1996446</td>\n",
              "      <td>27613</td>\n",
              "    </tr>\n",
              "    <tr>\n",
              "      <th>2</th>\n",
              "      <td>Harry Potter and the Sorcerer's Stone (Harry P...</td>\n",
              "      <td>J.K. Rowling-Mary GrandPr?©</td>\n",
              "      <td>eng</td>\n",
              "      <td>4.47</td>\n",
              "      <td>320</td>\n",
              "      <td>5629932</td>\n",
              "      <td>70390</td>\n",
              "    </tr>\n",
              "    <tr>\n",
              "      <th>3</th>\n",
              "      <td>Harry Potter and the Chamber of Secrets (Harry...</td>\n",
              "      <td>J.K. Rowling</td>\n",
              "      <td>eng</td>\n",
              "      <td>4.41</td>\n",
              "      <td>352</td>\n",
              "      <td>6267</td>\n",
              "      <td>272</td>\n",
              "    </tr>\n",
              "    <tr>\n",
              "      <th>8</th>\n",
              "      <td>The Ultimate Hitchhiker's Guide: Five Complete...</td>\n",
              "      <td>Douglas Adams</td>\n",
              "      <td>eng</td>\n",
              "      <td>4.38</td>\n",
              "      <td>815</td>\n",
              "      <td>3602</td>\n",
              "      <td>258</td>\n",
              "    </tr>\n",
              "    <tr>\n",
              "      <th>9</th>\n",
              "      <td>The Ultimate Hitchhiker's Guide to the Galaxy</td>\n",
              "      <td>Douglas Adams</td>\n",
              "      <td>eng</td>\n",
              "      <td>4.38</td>\n",
              "      <td>815</td>\n",
              "      <td>240189</td>\n",
              "      <td>3954</td>\n",
              "    </tr>\n",
              "    <tr>\n",
              "      <th>...</th>\n",
              "      <td>...</td>\n",
              "      <td>...</td>\n",
              "      <td>...</td>\n",
              "      <td>...</td>\n",
              "      <td>...</td>\n",
              "      <td>...</td>\n",
              "      <td>...</td>\n",
              "    </tr>\n",
              "    <tr>\n",
              "      <th>13701</th>\n",
              "      <td>Papa  Please Get the Moon for Me</td>\n",
              "      <td>Eric Carle</td>\n",
              "      <td>eng</td>\n",
              "      <td>4.15</td>\n",
              "      <td>40</td>\n",
              "      <td>4359</td>\n",
              "      <td>209</td>\n",
              "    </tr>\n",
              "    <tr>\n",
              "      <th>13704</th>\n",
              "      <td>American Gods</td>\n",
              "      <td>Neil Gaiman</td>\n",
              "      <td>spa</td>\n",
              "      <td>4.11</td>\n",
              "      <td>477</td>\n",
              "      <td>58</td>\n",
              "      <td>6</td>\n",
              "    </tr>\n",
              "    <tr>\n",
              "      <th>13705</th>\n",
              "      <td>The Day I Swapped My Dad for Two Goldfish</td>\n",
              "      <td>Neil Gaiman-Dave McKean</td>\n",
              "      <td>en-US</td>\n",
              "      <td>4.03</td>\n",
              "      <td>64</td>\n",
              "      <td>8744</td>\n",
              "      <td>524</td>\n",
              "    </tr>\n",
              "    <tr>\n",
              "      <th>13711</th>\n",
              "      <td>The Faeries' Oracle</td>\n",
              "      <td>Brian Froud-Jessica Macbeth</td>\n",
              "      <td>eng</td>\n",
              "      <td>4.43</td>\n",
              "      <td>224</td>\n",
              "      <td>1550</td>\n",
              "      <td>38</td>\n",
              "    </tr>\n",
              "    <tr>\n",
              "      <th>13712</th>\n",
              "      <td>The World of The Dark Crystal</td>\n",
              "      <td>Brian Froud</td>\n",
              "      <td>eng</td>\n",
              "      <td>4.29</td>\n",
              "      <td>132</td>\n",
              "      <td>3572</td>\n",
              "      <td>33</td>\n",
              "    </tr>\n",
              "  </tbody>\n",
              "</table>\n",
              "<p>5776 rows × 7 columns</p>\n",
              "</div>"
            ],
            "text/plain": [
              "                                                   title  ... text_reviews_count\n",
              "1      Harry Potter and the Order of the Phoenix (Har...  ...              27613\n",
              "2      Harry Potter and the Sorcerer's Stone (Harry P...  ...              70390\n",
              "3      Harry Potter and the Chamber of Secrets (Harry...  ...                272\n",
              "8      The Ultimate Hitchhiker's Guide: Five Complete...  ...                258\n",
              "9          The Ultimate Hitchhiker's Guide to the Galaxy  ...               3954\n",
              "...                                                  ...  ...                ...\n",
              "13701                   Papa  Please Get the Moon for Me  ...                209\n",
              "13704                                      American Gods  ...                  6\n",
              "13705          The Day I Swapped My Dad for Two Goldfish  ...                524\n",
              "13711                                The Faeries' Oracle  ...                 38\n",
              "13712                      The World of The Dark Crystal  ...                 33\n",
              "\n",
              "[5776 rows x 7 columns]"
            ]
          },
          "metadata": {
            "tags": []
          },
          "execution_count": 92
        }
      ]
    },
    {
      "cell_type": "markdown",
      "metadata": {
        "id": "aWiEatFohOux"
      },
      "source": [
        "# Calculating WR and add values to **data_with_rate_over4**"
      ]
    },
    {
      "cell_type": "code",
      "metadata": {
        "colab": {
          "base_uri": "https://localhost:8080/",
          "height": 912
        },
        "id": "sEz1LsRJyA4u",
        "outputId": "885527be-42fd-48c0-fa3e-26e047864116"
      },
      "source": [
        "weight_rates=calculate_WRating(data_with_rate_over4['average_rating'],data_with_rate_over4['ratings_count'],data_with_rate_over4['ratings_count'].min(),4.188533)\n",
        "data_with_rate_over4['weight_rates']=weight_rates\n",
        "data_with_rate_over4"
      ],
      "execution_count": null,
      "outputs": [
        {
          "output_type": "execute_result",
          "data": {
            "text/html": [
              "<div>\n",
              "<style scoped>\n",
              "    .dataframe tbody tr th:only-of-type {\n",
              "        vertical-align: middle;\n",
              "    }\n",
              "\n",
              "    .dataframe tbody tr th {\n",
              "        vertical-align: top;\n",
              "    }\n",
              "\n",
              "    .dataframe thead th {\n",
              "        text-align: right;\n",
              "    }\n",
              "</style>\n",
              "<table border=\"1\" class=\"dataframe\">\n",
              "  <thead>\n",
              "    <tr style=\"text-align: right;\">\n",
              "      <th></th>\n",
              "      <th>title</th>\n",
              "      <th>authors</th>\n",
              "      <th>language_code</th>\n",
              "      <th>average_rating</th>\n",
              "      <th># num_pages</th>\n",
              "      <th>ratings_count</th>\n",
              "      <th>text_reviews_count</th>\n",
              "      <th>weight_rates</th>\n",
              "    </tr>\n",
              "  </thead>\n",
              "  <tbody>\n",
              "    <tr>\n",
              "      <th>1</th>\n",
              "      <td>Harry Potter and the Order of the Phoenix (Har...</td>\n",
              "      <td>J.K. Rowling-Mary GrandPr?©</td>\n",
              "      <td>eng</td>\n",
              "      <td>4.49</td>\n",
              "      <td>870</td>\n",
              "      <td>1996446</td>\n",
              "      <td>27613</td>\n",
              "      <td>4.49</td>\n",
              "    </tr>\n",
              "    <tr>\n",
              "      <th>2</th>\n",
              "      <td>Harry Potter and the Sorcerer's Stone (Harry P...</td>\n",
              "      <td>J.K. Rowling-Mary GrandPr?©</td>\n",
              "      <td>eng</td>\n",
              "      <td>4.47</td>\n",
              "      <td>320</td>\n",
              "      <td>5629932</td>\n",
              "      <td>70390</td>\n",
              "      <td>4.47</td>\n",
              "    </tr>\n",
              "    <tr>\n",
              "      <th>3</th>\n",
              "      <td>Harry Potter and the Chamber of Secrets (Harry...</td>\n",
              "      <td>J.K. Rowling</td>\n",
              "      <td>eng</td>\n",
              "      <td>4.41</td>\n",
              "      <td>352</td>\n",
              "      <td>6267</td>\n",
              "      <td>272</td>\n",
              "      <td>4.41</td>\n",
              "    </tr>\n",
              "    <tr>\n",
              "      <th>8</th>\n",
              "      <td>The Ultimate Hitchhiker's Guide: Five Complete...</td>\n",
              "      <td>Douglas Adams</td>\n",
              "      <td>eng</td>\n",
              "      <td>4.38</td>\n",
              "      <td>815</td>\n",
              "      <td>3602</td>\n",
              "      <td>258</td>\n",
              "      <td>4.38</td>\n",
              "    </tr>\n",
              "    <tr>\n",
              "      <th>9</th>\n",
              "      <td>The Ultimate Hitchhiker's Guide to the Galaxy</td>\n",
              "      <td>Douglas Adams</td>\n",
              "      <td>eng</td>\n",
              "      <td>4.38</td>\n",
              "      <td>815</td>\n",
              "      <td>240189</td>\n",
              "      <td>3954</td>\n",
              "      <td>4.38</td>\n",
              "    </tr>\n",
              "    <tr>\n",
              "      <th>...</th>\n",
              "      <td>...</td>\n",
              "      <td>...</td>\n",
              "      <td>...</td>\n",
              "      <td>...</td>\n",
              "      <td>...</td>\n",
              "      <td>...</td>\n",
              "      <td>...</td>\n",
              "      <td>...</td>\n",
              "    </tr>\n",
              "    <tr>\n",
              "      <th>13701</th>\n",
              "      <td>Papa  Please Get the Moon for Me</td>\n",
              "      <td>Eric Carle</td>\n",
              "      <td>eng</td>\n",
              "      <td>4.15</td>\n",
              "      <td>40</td>\n",
              "      <td>4359</td>\n",
              "      <td>209</td>\n",
              "      <td>4.15</td>\n",
              "    </tr>\n",
              "    <tr>\n",
              "      <th>13704</th>\n",
              "      <td>American Gods</td>\n",
              "      <td>Neil Gaiman</td>\n",
              "      <td>spa</td>\n",
              "      <td>4.11</td>\n",
              "      <td>477</td>\n",
              "      <td>58</td>\n",
              "      <td>6</td>\n",
              "      <td>4.11</td>\n",
              "    </tr>\n",
              "    <tr>\n",
              "      <th>13705</th>\n",
              "      <td>The Day I Swapped My Dad for Two Goldfish</td>\n",
              "      <td>Neil Gaiman-Dave McKean</td>\n",
              "      <td>en-US</td>\n",
              "      <td>4.03</td>\n",
              "      <td>64</td>\n",
              "      <td>8744</td>\n",
              "      <td>524</td>\n",
              "      <td>4.03</td>\n",
              "    </tr>\n",
              "    <tr>\n",
              "      <th>13711</th>\n",
              "      <td>The Faeries' Oracle</td>\n",
              "      <td>Brian Froud-Jessica Macbeth</td>\n",
              "      <td>eng</td>\n",
              "      <td>4.43</td>\n",
              "      <td>224</td>\n",
              "      <td>1550</td>\n",
              "      <td>38</td>\n",
              "      <td>4.43</td>\n",
              "    </tr>\n",
              "    <tr>\n",
              "      <th>13712</th>\n",
              "      <td>The World of The Dark Crystal</td>\n",
              "      <td>Brian Froud</td>\n",
              "      <td>eng</td>\n",
              "      <td>4.29</td>\n",
              "      <td>132</td>\n",
              "      <td>3572</td>\n",
              "      <td>33</td>\n",
              "      <td>4.29</td>\n",
              "    </tr>\n",
              "  </tbody>\n",
              "</table>\n",
              "<p>5776 rows × 8 columns</p>\n",
              "</div>"
            ],
            "text/plain": [
              "                                                   title  ... weight_rates\n",
              "1      Harry Potter and the Order of the Phoenix (Har...  ...         4.49\n",
              "2      Harry Potter and the Sorcerer's Stone (Harry P...  ...         4.47\n",
              "3      Harry Potter and the Chamber of Secrets (Harry...  ...         4.41\n",
              "8      The Ultimate Hitchhiker's Guide: Five Complete...  ...         4.38\n",
              "9          The Ultimate Hitchhiker's Guide to the Galaxy  ...         4.38\n",
              "...                                                  ...  ...          ...\n",
              "13701                   Papa  Please Get the Moon for Me  ...         4.15\n",
              "13704                                      American Gods  ...         4.11\n",
              "13705          The Day I Swapped My Dad for Two Goldfish  ...         4.03\n",
              "13711                                The Faeries' Oracle  ...         4.43\n",
              "13712                      The World of The Dark Crystal  ...         4.29\n",
              "\n",
              "[5776 rows x 8 columns]"
            ]
          },
          "metadata": {
            "tags": []
          },
          "execution_count": 93
        }
      ]
    },
    {
      "cell_type": "markdown",
      "metadata": {
        "id": "1F4rV7vJktj7"
      },
      "source": [
        "# **Check if There is any na values**"
      ]
    },
    {
      "cell_type": "code",
      "metadata": {
        "colab": {
          "base_uri": "https://localhost:8080/"
        },
        "id": "xzmgOCkukz30",
        "outputId": "a5668967-849b-458d-e8e4-47699c798b4c"
      },
      "source": [
        "data_with_rate_over4.isna().sum()"
      ],
      "execution_count": null,
      "outputs": [
        {
          "output_type": "execute_result",
          "data": {
            "text/plain": [
              "title                  0\n",
              "authors                0\n",
              "language_code          0\n",
              "average_rating         0\n",
              "# num_pages            0\n",
              "ratings_count          0\n",
              "text_reviews_count     0\n",
              "weight_rates          28\n",
              "dtype: int64"
            ]
          },
          "metadata": {
            "tags": []
          },
          "execution_count": 94
        }
      ]
    },
    {
      "cell_type": "markdown",
      "metadata": {
        "id": "GSzWON3XlAbX"
      },
      "source": [
        "# **Drop Na values**"
      ]
    },
    {
      "cell_type": "code",
      "metadata": {
        "id": "aBDsB0C0k_Wk"
      },
      "source": [
        "data_with_rate_over4.dropna(inplace=True)"
      ],
      "execution_count": null,
      "outputs": []
    },
    {
      "cell_type": "markdown",
      "metadata": {
        "id": "2rOX-PqgjfXP"
      },
      "source": [
        "# *Top 5 books with hieghest WR *"
      ]
    },
    {
      "cell_type": "code",
      "metadata": {
        "colab": {
          "base_uri": "https://localhost:8080/",
          "height": 493
        },
        "id": "SKFLFmYtj6Fo",
        "outputId": "7192ce8a-7231-495d-e811-287bf8bbd14b"
      },
      "source": [
        "top_5_with_hieghest_Wr=data_with_rate_over4.sort_values('ratings_count',ascending=False)[:5]\n",
        "top_5_with_hieghest_Wr"
      ],
      "execution_count": null,
      "outputs": [
        {
          "output_type": "execute_result",
          "data": {
            "text/html": [
              "<div>\n",
              "<style scoped>\n",
              "    .dataframe tbody tr th:only-of-type {\n",
              "        vertical-align: middle;\n",
              "    }\n",
              "\n",
              "    .dataframe tbody tr th {\n",
              "        vertical-align: top;\n",
              "    }\n",
              "\n",
              "    .dataframe thead th {\n",
              "        text-align: right;\n",
              "    }\n",
              "</style>\n",
              "<table border=\"1\" class=\"dataframe\">\n",
              "  <thead>\n",
              "    <tr style=\"text-align: right;\">\n",
              "      <th></th>\n",
              "      <th>title</th>\n",
              "      <th>authors</th>\n",
              "      <th>language_code</th>\n",
              "      <th>average_rating</th>\n",
              "      <th># num_pages</th>\n",
              "      <th>ratings_count</th>\n",
              "      <th>text_reviews_count</th>\n",
              "      <th>weight_rates</th>\n",
              "    </tr>\n",
              "  </thead>\n",
              "  <tbody>\n",
              "    <tr>\n",
              "      <th>2</th>\n",
              "      <td>Harry Potter and the Sorcerer's Stone (Harry P...</td>\n",
              "      <td>J.K. Rowling-Mary GrandPr?©</td>\n",
              "      <td>eng</td>\n",
              "      <td>4.47</td>\n",
              "      <td>320</td>\n",
              "      <td>5629932</td>\n",
              "      <td>70390</td>\n",
              "      <td>4.47</td>\n",
              "    </tr>\n",
              "    <tr>\n",
              "      <th>2000</th>\n",
              "      <td>The Hobbit or There and Back Again</td>\n",
              "      <td>J.R.R. Tolkien</td>\n",
              "      <td>eng</td>\n",
              "      <td>4.26</td>\n",
              "      <td>366</td>\n",
              "      <td>2364968</td>\n",
              "      <td>31664</td>\n",
              "      <td>4.26</td>\n",
              "    </tr>\n",
              "    <tr>\n",
              "      <th>5299</th>\n",
              "      <td>Harry Potter and the Chamber of Secrets (Harry...</td>\n",
              "      <td>J.K. Rowling-Mary GrandPr?©</td>\n",
              "      <td>eng</td>\n",
              "      <td>4.41</td>\n",
              "      <td>341</td>\n",
              "      <td>2115562</td>\n",
              "      <td>32694</td>\n",
              "      <td>4.41</td>\n",
              "    </tr>\n",
              "    <tr>\n",
              "      <th>25</th>\n",
              "      <td>The Fellowship of the Ring (The Lord of the Ri...</td>\n",
              "      <td>J.R.R. Tolkien</td>\n",
              "      <td>eng</td>\n",
              "      <td>4.35</td>\n",
              "      <td>398</td>\n",
              "      <td>2009749</td>\n",
              "      <td>12784</td>\n",
              "      <td>4.35</td>\n",
              "    </tr>\n",
              "    <tr>\n",
              "      <th>1</th>\n",
              "      <td>Harry Potter and the Order of the Phoenix (Har...</td>\n",
              "      <td>J.K. Rowling-Mary GrandPr?©</td>\n",
              "      <td>eng</td>\n",
              "      <td>4.49</td>\n",
              "      <td>870</td>\n",
              "      <td>1996446</td>\n",
              "      <td>27613</td>\n",
              "      <td>4.49</td>\n",
              "    </tr>\n",
              "  </tbody>\n",
              "</table>\n",
              "</div>"
            ],
            "text/plain": [
              "                                                  title  ... weight_rates\n",
              "2     Harry Potter and the Sorcerer's Stone (Harry P...  ...         4.47\n",
              "2000                 The Hobbit or There and Back Again  ...         4.26\n",
              "5299  Harry Potter and the Chamber of Secrets (Harry...  ...         4.41\n",
              "25    The Fellowship of the Ring (The Lord of the Ri...  ...         4.35\n",
              "1     Harry Potter and the Order of the Phoenix (Har...  ...         4.49\n",
              "\n",
              "[5 rows x 8 columns]"
            ]
          },
          "metadata": {
            "tags": []
          },
          "execution_count": 103
        }
      ]
    },
    {
      "cell_type": "code",
      "metadata": {
        "colab": {
          "base_uri": "https://localhost:8080/",
          "height": 314
        },
        "id": "Op-AhuEJVC1D",
        "outputId": "06920c5f-9886-4f5b-8f53-935adb5d1b43"
      },
      "source": [
        "print('the following figure will descripe the data of the top 5 heighest wr books\\n')\n",
        "sns.barplot(y='title',x='weight_rates',data=top_5_with_hieghest_Wr);"
      ],
      "execution_count": null,
      "outputs": [
        {
          "output_type": "stream",
          "text": [
            "the following figure will descripe the data of the top 5 heighest wr books\n",
            "\n"
          ],
          "name": "stdout"
        },
        {
          "output_type": "display_data",
          "data": {
            "image/png": "[encoded data removed]",
            "text/plain": [
              "<Figure size 432x288 with 1 Axes>"
            ]
          },
          "metadata": {
            "tags": [],
            "needs_background": "light"
          }
        }
      ]
    },
    {
      "cell_type": "code",
      "metadata": {
        "id": "bT8vKj0PmFTY"
      },
      "source": [
        ""
      ],
      "execution_count": null,
      "outputs": []
    },
    {
      "cell_type": "markdown",
      "metadata": {
        "id": "2ooIpO41x_rV"
      },
      "source": [
        "# **Display Number of books per authors**"
      ]
    },
    {
      "cell_type": "code",
      "metadata": {
        "colab": {
          "base_uri": "https://localhost:8080/",
          "height": 419
        },
        "id": "m_BYsKvGyKMD",
        "outputId": "d993fd22-a119-4a83-d9de-0a5365353941"
      },
      "source": [
        "authors_with_noduplicates=data_with_rate_over4.loc[:,['authors']].drop_duplicates()\n",
        "authors_with_noduplicates\n",
        "no_books_per_author=data_with_rate_over4['authors'].value_counts()\n",
        "authors_with_noduplicates['no_books_per_author']=data_with_rate_over4['authors'].map(no_books_per_author.to_dict())\n",
        "authors_with_noduplicates"
      ],
      "execution_count": null,
      "outputs": [
        {
          "output_type": "execute_result",
          "data": {
            "text/html": [
              "<div>\n",
              "<style scoped>\n",
              "    .dataframe tbody tr th:only-of-type {\n",
              "        vertical-align: middle;\n",
              "    }\n",
              "\n",
              "    .dataframe tbody tr th {\n",
              "        vertical-align: top;\n",
              "    }\n",
              "\n",
              "    .dataframe thead th {\n",
              "        text-align: right;\n",
              "    }\n",
              "</style>\n",
              "<table border=\"1\" class=\"dataframe\">\n",
              "  <thead>\n",
              "    <tr style=\"text-align: right;\">\n",
              "      <th></th>\n",
              "      <th>authors</th>\n",
              "      <th>no_books_per_author</th>\n",
              "    </tr>\n",
              "  </thead>\n",
              "  <tbody>\n",
              "    <tr>\n",
              "      <th>1</th>\n",
              "      <td>J.K. Rowling-Mary GrandPr?©</td>\n",
              "      <td>4</td>\n",
              "    </tr>\n",
              "    <tr>\n",
              "      <th>3</th>\n",
              "      <td>J.K. Rowling</td>\n",
              "      <td>9</td>\n",
              "    </tr>\n",
              "    <tr>\n",
              "      <th>8</th>\n",
              "      <td>Douglas Adams</td>\n",
              "      <td>14</td>\n",
              "    </tr>\n",
              "    <tr>\n",
              "      <th>11</th>\n",
              "      <td>Douglas Adams-Stephen Fry</td>\n",
              "      <td>1</td>\n",
              "    </tr>\n",
              "    <tr>\n",
              "      <th>13</th>\n",
              "      <td>Bill Bryson-William Roberts</td>\n",
              "      <td>1</td>\n",
              "    </tr>\n",
              "    <tr>\n",
              "      <th>...</th>\n",
              "      <td>...</td>\n",
              "      <td>...</td>\n",
              "    </tr>\n",
              "    <tr>\n",
              "      <th>13658</th>\n",
              "      <td>Poppy Z. Brite</td>\n",
              "      <td>3</td>\n",
              "    </tr>\n",
              "    <tr>\n",
              "      <th>13692</th>\n",
              "      <td>Garth Nix-Tim Curry</td>\n",
              "      <td>1</td>\n",
              "    </tr>\n",
              "    <tr>\n",
              "      <th>13700</th>\n",
              "      <td>Jos?© Saramago</td>\n",
              "      <td>1</td>\n",
              "    </tr>\n",
              "    <tr>\n",
              "      <th>13711</th>\n",
              "      <td>Brian Froud-Jessica Macbeth</td>\n",
              "      <td>1</td>\n",
              "    </tr>\n",
              "    <tr>\n",
              "      <th>13712</th>\n",
              "      <td>Brian Froud</td>\n",
              "      <td>1</td>\n",
              "    </tr>\n",
              "  </tbody>\n",
              "</table>\n",
              "<p>3538 rows × 2 columns</p>\n",
              "</div>"
            ],
            "text/plain": [
              "                           authors  no_books_per_author\n",
              "1      J.K. Rowling-Mary GrandPr?©                    4\n",
              "3                     J.K. Rowling                    9\n",
              "8                    Douglas Adams                   14\n",
              "11       Douglas Adams-Stephen Fry                    1\n",
              "13     Bill Bryson-William Roberts                    1\n",
              "...                            ...                  ...\n",
              "13658               Poppy Z. Brite                    3\n",
              "13692          Garth Nix-Tim Curry                    1\n",
              "13700               Jos?© Saramago                    1\n",
              "13711  Brian Froud-Jessica Macbeth                    1\n",
              "13712                  Brian Froud                    1\n",
              "\n",
              "[3538 rows x 2 columns]"
            ]
          },
          "metadata": {
            "tags": []
          },
          "execution_count": 123
        }
      ]
    },
    {
      "cell_type": "markdown",
      "metadata": {
        "id": "PtpZT9hw-mTz"
      },
      "source": [
        "# **Display Top 10 authors with max books count:**"
      ]
    },
    {
      "cell_type": "code",
      "metadata": {
        "colab": {
          "base_uri": "https://localhost:8080/",
          "height": 297
        },
        "id": "xjBwVQ5U-ydC",
        "outputId": "c6cd359f-292c-44bb-b66e-7730cd54ea92"
      },
      "source": [
        "Top_10_authors=authors_with_noduplicates.sort_values('no_books_per_author',ascending=False)[:10]\n",
        "sns.barplot(y='authors',x='no_books_per_author',data=Top_10_authors)"
      ],
      "execution_count": null,
      "outputs": [
        {
          "output_type": "execute_result",
          "data": {
            "text/plain": [
              "<matplotlib.axes._subplots.AxesSubplot at 0x7fcc590eaf50>"
            ]
          },
          "metadata": {
            "tags": []
          },
          "execution_count": 147
        },
        {
          "output_type": "display_data",
          "data": {
            "image/png": "[encoded data removed]",
            "text/plain": [
              "<Figure size 432x288 with 1 Axes>"
            ]
          },
          "metadata": {
            "tags": [],
            "needs_background": "light"
          }
        }
      ]
    },
    {
      "cell_type": "markdown",
      "metadata": {
        "id": "k17DguqU5boz"
      },
      "source": [
        "# **Check if there is any duplicated in title**"
      ]
    },
    {
      "cell_type": "code",
      "metadata": {
        "colab": {
          "base_uri": "https://localhost:8080/"
        },
        "id": "MUE1D65hyW-O",
        "outputId": "205cdd46-57c8-4e8e-bb94-c4cc43997461"
      },
      "source": [
        "print('number of duplicated title is')\n",
        "data_with_rate_over4.duplicated(subset = 'title').sum()"
      ],
      "execution_count": null,
      "outputs": [
        {
          "output_type": "stream",
          "text": [
            "number of duplicated title is\n"
          ],
          "name": "stdout"
        },
        {
          "output_type": "execute_result",
          "data": {
            "text/plain": [
              "530"
            ]
          },
          "metadata": {
            "tags": []
          },
          "execution_count": 138
        }
      ]
    },
    {
      "cell_type": "code",
      "metadata": {
        "colab": {
          "base_uri": "https://localhost:8080/"
        },
        "id": "_dyz1Fkl3eBD",
        "outputId": "d05984f4-263f-43ab-877c-a83a5a30eecd"
      },
      "source": [
        "print('the counts of duplicate for each title are \\n')\n",
        "data_with_rate_over4['title'].value_counts()"
      ],
      "execution_count": null,
      "outputs": [
        {
          "output_type": "stream",
          "text": [
            "the counts of duplicate for each title are \n",
            "\n"
          ],
          "name": "stdout"
        },
        {
          "output_type": "execute_result",
          "data": {
            "text/plain": [
              "'Salem's Lot                                                                      11\n",
              "One Hundred Years of Solitude                                                     11\n",
              "The Brothers Karamazov                                                            10\n",
              "Collected Stories                                                                  9\n",
              "The Lord of the Rings (The Lord of the Rings  #1-3)                                9\n",
              "                                                                                  ..\n",
              "The Twelve Caesars                                                                 1\n",
              "Brideshead Revisited: The Sacred and Profane Memories of Captain Charles Ryder     1\n",
              "The Story of a Seagull and the Cat Who Taught Her to Fly                           1\n",
              "Teaching Classical Ballet                                                          1\n",
              "A Tourist Guide to Lancre                                                          1\n",
              "Name: title, Length: 5218, dtype: int64"
            ]
          },
          "metadata": {
            "tags": []
          },
          "execution_count": 139
        }
      ]
    },
    {
      "cell_type": "code",
      "metadata": {
        "colab": {
          "base_uri": "https://localhost:8080/",
          "height": 611
        },
        "id": "H5tfHlqz6DgZ",
        "outputId": "6a3c3956-c784-4c18-fce7-4ba20385239b"
      },
      "source": [
        "data_with_rate_over4[data_with_rate_over4['title']==\"'Salem's Lot\"]"
      ],
      "execution_count": null,
      "outputs": [
        {
          "output_type": "execute_result",
          "data": {
            "text/html": [
              "<div>\n",
              "<style scoped>\n",
              "    .dataframe tbody tr th:only-of-type {\n",
              "        vertical-align: middle;\n",
              "    }\n",
              "\n",
              "    .dataframe tbody tr th {\n",
              "        vertical-align: top;\n",
              "    }\n",
              "\n",
              "    .dataframe thead th {\n",
              "        text-align: right;\n",
              "    }\n",
              "</style>\n",
              "<table border=\"1\" class=\"dataframe\">\n",
              "  <thead>\n",
              "    <tr style=\"text-align: right;\">\n",
              "      <th></th>\n",
              "      <th>title</th>\n",
              "      <th>authors</th>\n",
              "      <th>language_code</th>\n",
              "      <th>average_rating</th>\n",
              "      <th># num_pages</th>\n",
              "      <th>ratings_count</th>\n",
              "      <th>text_reviews_count</th>\n",
              "      <th>weight_rates</th>\n",
              "    </tr>\n",
              "  </thead>\n",
              "  <tbody>\n",
              "    <tr>\n",
              "      <th>1845</th>\n",
              "      <td>'Salem's Lot</td>\n",
              "      <td>Stephen King-Jerry N. Uelsmann</td>\n",
              "      <td>eng</td>\n",
              "      <td>4.25</td>\n",
              "      <td>594</td>\n",
              "      <td>81170</td>\n",
              "      <td>504</td>\n",
              "      <td>4.25</td>\n",
              "    </tr>\n",
              "    <tr>\n",
              "      <th>1846</th>\n",
              "      <td>'Salem's Lot</td>\n",
              "      <td>Stephen King-Ron McLarty</td>\n",
              "      <td>eng</td>\n",
              "      <td>4.01</td>\n",
              "      <td>17</td>\n",
              "      <td>227</td>\n",
              "      <td>55</td>\n",
              "      <td>4.01</td>\n",
              "    </tr>\n",
              "    <tr>\n",
              "      <th>1847</th>\n",
              "      <td>'Salem's Lot</td>\n",
              "      <td>Stephen King</td>\n",
              "      <td>eng</td>\n",
              "      <td>4.01</td>\n",
              "      <td>405</td>\n",
              "      <td>959</td>\n",
              "      <td>121</td>\n",
              "      <td>4.01</td>\n",
              "    </tr>\n",
              "    <tr>\n",
              "      <th>1850</th>\n",
              "      <td>'Salem's Lot</td>\n",
              "      <td>Stephen King</td>\n",
              "      <td>eng</td>\n",
              "      <td>4.01</td>\n",
              "      <td>446</td>\n",
              "      <td>399</td>\n",
              "      <td>45</td>\n",
              "      <td>4.01</td>\n",
              "    </tr>\n",
              "    <tr>\n",
              "      <th>1851</th>\n",
              "      <td>'Salem's Lot</td>\n",
              "      <td>Stephen King</td>\n",
              "      <td>en-US</td>\n",
              "      <td>4.01</td>\n",
              "      <td>427</td>\n",
              "      <td>169</td>\n",
              "      <td>33</td>\n",
              "      <td>4.01</td>\n",
              "    </tr>\n",
              "    <tr>\n",
              "      <th>1852</th>\n",
              "      <td>'Salem's Lot</td>\n",
              "      <td>Stephen King</td>\n",
              "      <td>eng</td>\n",
              "      <td>4.01</td>\n",
              "      <td>586</td>\n",
              "      <td>24</td>\n",
              "      <td>6</td>\n",
              "      <td>4.01</td>\n",
              "    </tr>\n",
              "    <tr>\n",
              "      <th>3781</th>\n",
              "      <td>'Salem's Lot</td>\n",
              "      <td>Stephen King</td>\n",
              "      <td>eng</td>\n",
              "      <td>4.01</td>\n",
              "      <td>483</td>\n",
              "      <td>266312</td>\n",
              "      <td>5513</td>\n",
              "      <td>4.01</td>\n",
              "    </tr>\n",
              "    <tr>\n",
              "      <th>6059</th>\n",
              "      <td>'Salem's Lot</td>\n",
              "      <td>Stephen King</td>\n",
              "      <td>eng</td>\n",
              "      <td>4.01</td>\n",
              "      <td>631</td>\n",
              "      <td>3386</td>\n",
              "      <td>357</td>\n",
              "      <td>4.01</td>\n",
              "    </tr>\n",
              "    <tr>\n",
              "      <th>6397</th>\n",
              "      <td>'Salem's Lot</td>\n",
              "      <td>Stephen King-Ron McLarty</td>\n",
              "      <td>en-US</td>\n",
              "      <td>4.01</td>\n",
              "      <td>0</td>\n",
              "      <td>55</td>\n",
              "      <td>5</td>\n",
              "      <td>4.01</td>\n",
              "    </tr>\n",
              "    <tr>\n",
              "      <th>6399</th>\n",
              "      <td>'Salem's Lot</td>\n",
              "      <td>Stephen King</td>\n",
              "      <td>eng</td>\n",
              "      <td>4.01</td>\n",
              "      <td>817</td>\n",
              "      <td>14</td>\n",
              "      <td>3</td>\n",
              "      <td>4.01</td>\n",
              "    </tr>\n",
              "    <tr>\n",
              "      <th>10986</th>\n",
              "      <td>'Salem's Lot</td>\n",
              "      <td>Stephen King</td>\n",
              "      <td>eng</td>\n",
              "      <td>4.01</td>\n",
              "      <td>427</td>\n",
              "      <td>176</td>\n",
              "      <td>20</td>\n",
              "      <td>4.01</td>\n",
              "    </tr>\n",
              "  </tbody>\n",
              "</table>\n",
              "</div>"
            ],
            "text/plain": [
              "              title  ... weight_rates\n",
              "1845   'Salem's Lot  ...         4.25\n",
              "1846   'Salem's Lot  ...         4.01\n",
              "1847   'Salem's Lot  ...         4.01\n",
              "1850   'Salem's Lot  ...         4.01\n",
              "1851   'Salem's Lot  ...         4.01\n",
              "1852   'Salem's Lot  ...         4.01\n",
              "3781   'Salem's Lot  ...         4.01\n",
              "6059   'Salem's Lot  ...         4.01\n",
              "6397   'Salem's Lot  ...         4.01\n",
              "6399   'Salem's Lot  ...         4.01\n",
              "10986  'Salem's Lot  ...         4.01\n",
              "\n",
              "[11 rows x 8 columns]"
            ]
          },
          "metadata": {
            "tags": []
          },
          "execution_count": 135
        }
      ]
    },
    {
      "cell_type": "markdown",
      "metadata": {
        "id": "0zjvA58L9oLd"
      },
      "source": [
        "# **Check the language of books and display how many books in each language.**"
      ]
    },
    {
      "cell_type": "code",
      "metadata": {
        "colab": {
          "base_uri": "https://localhost:8080/"
        },
        "id": "Q7HQpSQR6XML",
        "outputId": "0090213d-c447-4385-8047-a9126ac8f2fc"
      },
      "source": [
        "list_of_lang = df['language_code'].unique()\n",
        "print(list_of_lang)"
      ],
      "execution_count": null,
      "outputs": [
        {
          "output_type": "stream",
          "text": [
            "['eng' 'en-US' 'spa' 'fre' 'en-GB' 'mul' 'ger' 'ara' 'por' 'grc' 'en-CA'\n",
            " 'enm' 'jpn' 'dan' 'zho' 'nl' 'ita' 'lat' 'srp' 'rus' 'tur' 'msa' 'swe'\n",
            " 'glg' 'cat' 'wel' 'heb' 'nor' 'gla' 'ale']\n"
          ],
          "name": "stdout"
        }
      ]
    },
    {
      "cell_type": "code",
      "metadata": {
        "colab": {
          "base_uri": "https://localhost:8080/"
        },
        "id": "wCMkF5G08zYB",
        "outputId": "ebe06141-6864-47a9-e3a0-988e7636e5a0"
      },
      "source": [
        "# how many in each\n",
        "langs = df['language_code'].value_counts()\n",
        "print(langs)"
      ],
      "execution_count": null,
      "outputs": [
        {
          "output_type": "stream",
          "text": [
            "eng      10594\n",
            "en-US     1698\n",
            "spa        419\n",
            "en-GB      341\n",
            "ger        238\n",
            "fre        209\n",
            "jpn         64\n",
            "por         27\n",
            "mul         21\n",
            "ita         19\n",
            "zho         16\n",
            "grc         12\n",
            "en-CA        9\n",
            "rus          7\n",
            "nl           7\n",
            "swe          6\n",
            "glg          4\n",
            "enm          3\n",
            "lat          3\n",
            "tur          3\n",
            "cat          3\n",
            "ara          2\n",
            "gla          1\n",
            "msa          1\n",
            "dan          1\n",
            "heb          1\n",
            "srp          1\n",
            "nor          1\n",
            "wel          1\n",
            "ale          1\n",
            "Name: language_code, dtype: int64\n"
          ],
          "name": "stdout"
        }
      ]
    },
    {
      "cell_type": "code",
      "metadata": {
        "colab": {
          "base_uri": "https://localhost:8080/",
          "height": 302
        },
        "id": "qksQf4429MbD",
        "outputId": "24f232ca-531b-4e80-9563-92eccd067b2c"
      },
      "source": [
        "# Set the width and height of the figure\n",
        "plt.figure(figsize=(20,6))\n",
        "sns.barplot(x=langs.index, y=langs);"
      ],
      "execution_count": null,
      "outputs": [
        {
          "output_type": "display_data",
          "data": {
            "image/png": "[encoded data removed]",
            "text/plain": [
              "<Figure size 1440x432 with 1 Axes>"
            ]
          },
          "metadata": {
            "tags": [],
            "needs_background": "light"
          }
        }
      ]
    },
    {
      "cell_type": "markdown",
      "metadata": {
        "id": "OAvhdUeA_mlu"
      },
      "source": [
        "# **Check Correlations between features**"
      ]
    },
    {
      "cell_type": "code",
      "metadata": {
        "colab": {
          "base_uri": "https://localhost:8080/",
          "height": 355
        },
        "id": "Vfa3hwA09U5m",
        "outputId": "dac63a77-65a3-43fc-c602-c196869e12ee"
      },
      "source": [
        "corr=data_with_rate_over4.corr()\n",
        "sns.heatmap(data=corr, annot=True);"
      ],
      "execution_count": null,
      "outputs": [
        {
          "output_type": "display_data",
          "data": {
            "image/png": "[encoded data removed]",
            "text/plain": [
              "<Figure size 432x288 with 2 Axes>"
            ]
          },
          "metadata": {
            "tags": [],
            "needs_background": "light"
          }
        }
      ]
    },
    {
      "cell_type": "code",
      "metadata": {
        "colab": {
          "base_uri": "https://localhost:8080/",
          "height": 743
        },
        "id": "iPp2vxSJAFv2",
        "outputId": "df9c8b0a-f5db-4875-c9d4-35b552af4637"
      },
      "source": [
        "sns.pairplot(data_with_rate_over4, height = 2)"
      ],
      "execution_count": null,
      "outputs": [
        {
          "output_type": "execute_result",
          "data": {
            "text/plain": [
              "<seaborn.axisgrid.PairGrid at 0x7fcc591c5150>"
            ]
          },
          "metadata": {
            "tags": []
          },
          "execution_count": 150
        },
        {
          "output_type": "display_data",
          "data": {
            "image/png": "[encoded data removed]",
            "text/plain": [
              "<Figure size 720x720 with 30 Axes>"
            ]
          },
          "metadata": {
            "tags": [],
            "needs_background": "light"
          }
        }
      ]
    },
    {
      "cell_type": "code",
      "metadata": {
        "id": "_EMPmkwVBPcV"
      },
      "source": [
        ""
      ],
      "execution_count": null,
      "outputs": []
    }
  ]
}